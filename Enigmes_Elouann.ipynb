{
  "metadata": {
    "language_info": {
      "codemirror_mode": {
        "name": "python",
        "version": 3
      },
      "file_extension": ".py",
      "mimetype": "text/x-python",
      "name": "python",
      "nbconvert_exporter": "python",
      "pygments_lexer": "ipython3",
      "version": "3.8"
    },
    "kernelspec": {
      "name": "python",
      "display_name": "Python (Pyodide)",
      "language": "python"
    }
  },
  "nbformat_minor": 4,
  "nbformat": 4,
  "cells": [
    {
      "cell_type": "code",
      "source": "import sys\nprint(sys.version)",
      "metadata": {
        "trusted": true
      },
      "execution_count": 3,
      "outputs": [
        {
          "name": "stdout",
          "text": "3.10.2 (main, Sep 15 2022, 23:28:12) [Clang 15.0.0 (https://github.com/llvm/llvm-project 7effcbda49ba32991b8955821b8f\n",
          "output_type": "stream"
        }
      ]
    },
    {
      "cell_type": "code",
      "source": "def recherche():\n    dernier_resultat = liste\n    #########################################################\n    # liste de nombres non divisible par\n\n    if non_divisible_par:\n        newresult=[] \n        for nb in dernier_resultat:\n            garder = True\n            for i in non_divisible_par:\n                if (nb%i) == 0:\n                    garder = False\n            if garder:\n                newresult.append(nb)\n\n        dernier_resultat =  newresult\n        print(\"TEST : liste de nombres non divisible par\")\n        if len(dernier_resultat) == 1:\n            print(f\"BRAVO, je suis trop fort! Il ne reste que la réponse : {dernier_resultat[0]}\")\n        elif len(dernier_resultat) > 1:\n            print(f\"Zut, il reste {len(dernier_resultat)} choix, il faut réfléchir encore...\")\n\n\n\n    #########################################################    \n    # liste des nombres divisible par\n    if divisible_par:\n        newresult=[] \n        for nb in dernier_resultat:\n            garder = True\n            for i in divisible_par:\n                if (nb%i) != 0:\n                    garder = False\n            if garder:\n                newresult.append(nb)\n\n\n        dernier_resultat =  newresult\n        print(\"J'élimine les nombres qui ne sont pas divisibles par ...\") \n        if len(dernier_resultat) == 1:\n            print(f\"BRAVO, je suis trop fort! Il ne reste que la réponse : {dernier_resultat[0]}\")\n        elif len(dernier_resultat) > 1:\n            print(f\"Zut, il reste {len(dernier_resultat)} choix, il faut réfléchir encore...\")\n\n\n    #########################################################    \n    # Nombre de chiffres\n    if longueur_nombre:\n        newresult=[] \n        for nb in dernier_resultat:\n            if len(nb) == longueur_nombre:\n                newresult.append(nb)\n\n\n        dernier_resultat =  newresult\n        print(f\"J'élimine les nombres qui n'ont pas {longueur_nombre} chiffres\") \n        if len(dernier_resultat) == 1:\n            print(f\"BRAVO, je suis trop fort! Il ne reste que la réponse : {dernier_resultat[0]}\")\n        elif len(dernier_resultat) > 1:\n            print(f\"Zut, il reste {len(dernier_resultat)} choix, il faut réfléchir encore...\")\n\n\n\n\n    #########################################################\n    # test ne contient pas  les chiffres...\n    if ne_contient_pas:\n        newresult=[] \n        for nb in dernier_resultat:\n            liste_chiffre = str(nb)\n            garder = True\n            for chiffre in liste_chiffre:\n                for test in ne_contient_pas:\n                    if int(chiffre) == int(test):\n                        garder = False\n            if garder:\n                newresult.append(nb)\n\n        dernier_resultat =  newresult\n        print(\"J'élimine les nombres qui ne contient pas  les chiffres\")\n        if len(dernier_resultat) == 1:\n            print(f\"BRAVO, je suis trop fort! Il ne reste que la réponse : {dernier_resultat[0]}\")\n        elif len(dernier_resultat) > 1:\n            print(f\"Zut, il reste {len(dernier_resultat)} choix, il faut réfléchir encore...\")\n\n\n\n    #########################################################\n    # test le rapport entre la centaine et la dizaine\n    # gérer les cas avec moins de chiffres que de test!\n\n    # pour nb = 789 => 7, 8, 9 => 1=7, 2=8, 3=9\n    # test A,B,C\n    # test i vs i+1 => 7 A 8 puis 8 B 9 \n    # test [0, 1, 2]\n    # sur 12 = O; sur \n\n    # CONCLUSION : test doit être aussi long que nb; si nb plus court, on le zappe\n\n    if multiple_chiffres:\n        print(\"Je regarde le rapport de multiplications entre les chiffres\")\n        newresult=[] \n        for nb in dernier_resultat:\n            garder = True\n            # décomposition de nombre en chiffres\n            nb_chiffres = [int(c) for c in str(nb)]\n            # on inverse pour tester de la fin!\n            nb_chiffres.reverse()\n\n            # Si nb est plus court que la chaine de test, c'est que ce n'est pas le résultat\n            if len(nb_chiffres) < len(multiple_chiffres):\n                garder = False\n                continue\n            for index, test in enumerate(multiple_chiffres):\n                # si pas assez de chiffres pour le test, on passe au nb suivant\n                if (index == len(nb_chiffres)-1):\n                    garder = False\n                    break\n                if (test == 0): # si chiffre zéro, c'est à ignorer, on fait le test suivant\n                    continue\n\n                if type(test) == str:\n                    pass\n                else:\n                    # si chiffre = 0, on ne peux multiplier, on le jette!\n                    if (nb_chiffres[index+1] == 0) or (nb_chiffres[index] == 0):\n                        garder = False\n                        break\n                    if int(nb_chiffres[index+1] * test) != nb_chiffres[index]:  \n                        garder = False\n                        break\n            if garder: # Si toujours vrai avec les tests, on l'ajoute\n                newresult.append(nb)\n        dernier_resultat =  newresult\n\n\n        if len(dernier_resultat) == 1:\n            print(f\"BRAVO, je suis trop fort! Il ne reste que la réponse : {dernier_resultat[0]}\")\n        elif len(dernier_resultat) > 1:\n            print(f\"Zut, il reste {len(dernier_resultat)} choix, il faut réfléchir encore...\")\n\n    #########################################################\n    if compare_chiffres:\n        print(\"Je compare les différents chiffres\")\n        newresult=[] \n        for nb in dernier_resultat:\n            garder = True\n            # décomposition de nombre en chiffres\n            nb_chiffres = [int(c) for c in str(nb)]\n            # on inverse pour tester de la fin!\n            nb_chiffres.reverse()\n            for test in compare_chiffres:\n                # si pas assez de chiffres pour le test, on passe au nb suivant\n                if (int(test[0]) > len(nb_chiffres)) or (int(test[2]) > len(nb_chiffres)):\n                    garder = False\n                    break           \n                if type(test) == str:\n                    # on doit décomposer pour récupérer la comparaison et les index!\n                    if test[1] == \">\":\n                        if not(nb_chiffres[int(test[0])-1] > nb_chiffres[int(test[2])-1]):  \n                            garder = False\n                            break\n                    if test[1] == \"<\":\n                        if not(nb_chiffres[int(test[0])-1] < nb_chiffres[int(test[2])-1]):  \n                            garder = False\n                            break\n                    if test[1] == \"=\":\n                        if not(nb_chiffres[int(test[0])-1] == nb_chiffres[int(test[2])-1]):  \n                            garder = False\n                            break\n\n            if garder: # Si toujours vrai avec les tests, on l'ajoute\n                newresult.append(nb)\n        dernier_resultat =  newresult\n\n    if len(dernier_resultat) == 1:\n        print(f\"BRAVO, je suis trop fort! Il ne reste que la réponse : {dernier_resultat[0]}\")\n    elif len(dernier_resultat) > 1:\n        print(f\"Zut, il reste {len(dernier_resultat)} choix, il faut réfléchir encore...\")\n    print(dernier_resultat)\n\n\n    #########################################################\n    # test la somme des chiffres\n\n    if addition_chiffres:\n        print(\"Je teste l'addition des chiffres\")\n        newresult=[] \n        for nb in dernier_resultat:       \n            total = 0\n            for chiffre in str(nb):\n                total += int(chiffre)\n            if total == addition_chiffres:\n                newresult.append(nb)\n\n\n        dernier_resultat =  newresult\n\n        if len(dernier_resultat) == 1:\n            print(f\"BRAVO, je suis trop fort! Il ne reste que la réponse : {dernier_resultat[0]}\")\n        elif len(dernier_resultat) > 1:\n            print(f\"Zut, il reste {len(dernier_resultat)} choix, il faut réfléchir encore...\")\n\n        print(dernier_resultat)\n\n    ",
      "metadata": {
        "trusted": true
      },
      "execution_count": 92,
      "outputs": []
    },
    {
      "cell_type": "code",
      "source": "# Liste des nombres à tester\nliste = range(1,1000000,1)\n\n# liste des tests à faire\n# règle \"pas divisible\"\nnon_divisible_par = range(3,40,1) #[2]\ndivisible_par = [2]\n# règle non contient pas\nne_contient_pas = [3,4,5]\n# nombre de chiffre\nlongueur_nombre = 0\n# rapport de multiple entre chiffres\n    # ordre : de l'unité vers .... (ex : 1ère valeur est entre unité et dizaine)\n    # ex  [2, 3] = dizaine * 2 = unité , centaine * 3 = dizaine\nmultiple_chiffres = []\n# règle  le rapports entre les nombres\n    # ex : [\"3>6\"] : 3ème chiffre > 6ème chiffre\n    # comparaison possible : <, >, =\ncompare_chiffres = [\"2>1\",\"1>3\",\"5>6\",\"4=3\",\"2<5\"]\n\n# addition des 3 chiffres donne : \naddition_chiffres = 28\n\n\nrecherche()",
      "metadata": {
        "trusted": true
      },
      "execution_count": 93,
      "outputs": [
        {
          "name": "stdout",
          "text": "TEST : liste de nombres non divisible par\nZut, il reste 223064 choix, il faut réfléchir encore...\nJ'élimine les nombres qui ne sont pas divisibles par ...\nZut, il reste 74361 choix, il faut réfléchir encore...\nJ'élimine les nombres qui ne contient pas  les chiffres\nZut, il reste 9819 choix, il faut réfléchir encore...\nJe compare les différents chiffres\nZut, il reste 22 choix, il faut réfléchir encore...\n[180062, 181162, 190082, 191162, 191186, 192286, 271162, 290062, 290086, 291182, 292286, 671162, 680062, 690062, 690082, 690086, 691162, 781162, 790082, 791162, 890062, 892286]\nJe teste l'addition des chiffres\nBRAVO, je suis trop fort! Il ne reste que la réponse : 192286\n[192286]\n",
          "output_type": "stream"
        }
      ]
    },
    {
      "cell_type": "code",
      "source": "dernier_resultat = range(99,115,1)\n# centaine vs dizaine puis dizaine vs unité\n# 0 si pas de test et Ne peux pas commencer par un zéro (on commence à lister à partir du 1er vrai test!)\nrapports_chiffres = [1,2]\n\n# gérer les cas avec moins de chiffres que de test!\n\n# pour nb = 789 => 7, 8, 9 => 1=7, 2=8, 3=9\n# test A,B,C\n# test i vs i+1 => 7 A 8 puis 8 B 9 \n# test [0, 1, 2]\n# sur 12 = O; sur \n\n# CONCLUSION : test doit être aussi long que nb; si nb plus court, on le zappe\n\n\nif rapports_chiffres:\n    newresult=[] \n    for nb in dernier_resultat:\n        garder = True\n        # décomposition de nombre en chiffres\n        nb_chiffres = [int(c) for c in str(nb)]\n        #print(\"test de\",nb)\n        # Si nb est plus court que la chaine de test, c'est que ce n'est pas le résultat\n        if len(nb_chiffres) < len(rapports_chiffres):\n            garder = False\n            continue\n        for index, test in enumerate(rapports_chiffres):\n            # si pas assez de chiffres pour le test, on passe au nb suivant\n            print(index,\"->\",nb_chiffres[index],\" * \",test,\" = \",nb_chiffres[index+1])\n            if (index < len(nb_chiffres)-1): \n                garder = False\n                break\n            if (test == 0): # si chiffre zéro, c'est à ignorer, on fait le test suivant\n                continue\n            \n            if type(test) == str:\n                if test == \">\":\n                    pass\n                if test == \"<\":\n                    pass\n                if test == \"=\":\n                    pass\n                pass\n            else:\n                if int(int(nb_chiffres[index]) * (test)) != nb_chiffres[index+1]:  \n                    garder = False\n                    #print(index,\"de \",nb,\"->\",nb_chiffres[index],\" * \",test,\" = \",nb_chiffres[index+1],\" => FAUX on jette!\")\n                    break\n        if garder: # Si toujours vrai avec les tests, on l'ajoute\n            newresult.append(nb)\n    dernier_resultat =  newresult\n  \nif len(dernier_resultat) == 1:\n    print(f\"BRAVO, je suis trop fort! Il ne reste que la réponse : {dernier_resultat[0]}\")\nelif len(dernier_resultat) > 1:\n    print(f\"Zut, il reste {len(dernier_resultat)} choix, il faut réfléchir encore...\")\nprint(dernier_resultat)",
      "metadata": {
        "trusted": true
      },
      "execution_count": 24,
      "outputs": [
        {
          "name": "stdout",
          "text": "0 -> 9  *  1  =  9\n0 -> 1  *  1  =  0\n0 -> 1  *  1  =  0\n0 -> 1  *  1  =  0\n0 -> 1  *  1  =  0\n0 -> 1  *  1  =  0\n0 -> 1  *  1  =  0\n0 -> 1  *  1  =  0\n0 -> 1  *  1  =  0\n0 -> 1  *  1  =  0\n0 -> 1  *  1  =  0\n0 -> 1  *  1  =  1\n0 -> 1  *  1  =  1\n0 -> 1  *  1  =  1\n0 -> 1  *  1  =  1\n0 -> 1  *  1  =  1\n[]\n",
          "output_type": "stream"
        }
      ]
    },
    {
      "cell_type": "code",
      "source": "## nouveau test",
      "metadata": {
        "trusted": true
      },
      "execution_count": 11,
      "outputs": []
    },
    {
      "cell_type": "code",
      "source": "dernier_resultat = range(30,40,1)\n# unité vs dizaine puis dizaine vs centaine, etc \n# 0 si pas de test et Ne peux pas commencer par un zéro (on commence à lister à partir du 1er vrai test!)\n# ex  [2] = dizaine * 2 = unité\n# ex  [>] = dizaine > unité\nrapports_chiffres_libre = [\"1=2\"]\n\n# gérer les cas avec moins de chiffres que de test!\n\n# pour nb = 789 => 7, 8, 9 => 1=7, 2=8, 3=9\n# test A,B,C\n# test i vs i+1 => 7 A 8 puis 8 B 9 \n# test [0, 1, 2]\n# sur 12 = O; sur\n\n# index \"comparaison\" index2\n# test [0, \"6>1\", 2]\n#\n#\n#\n\n# CONCLUSION : test doit être aussi long que nb; si nb plus court, on le zappe\n\n\nif compare_chiffres:\n    newresult=[] \n    for nb in dernier_resultat:\n        garder = True\n        # décomposition de nombre en chiffres\n        nb_chiffres = [int(c) for c in str(nb)]\n        # on inverse pour tester de la fin!\n        nb_chiffres.reverse()\n        for test in compare_chiffres:\n            # si pas assez de chiffres pour le test, on passe au nb suivant\n            if (int(test[0]) > len(nb_chiffres)) or (int(test[2]) > len(nb_chiffres)):\n                garder = False\n                break           \n            if type(test) == str:\n                # on doit décomposer pour récupérer la comparaison et les index!\n                if test[1] == \">\":\n                    if not(nb_chiffres[int(test[0])-1] > nb_chiffres[int(test[2])-1]):  \n                        garder = False\n                        break\n                if test[1] == \"<\":\n                    if not(nb_chiffres[int(test[0])-1] < nb_chiffres[int(test[2])-1]):  \n                        garder = False\n                        break\n                if test[1] == \"=\":\n                    if not(nb_chiffres[int(test[0])-1] == nb_chiffres[int(test[2])-1]):  \n                        garder = False\n                        break\n\n        if garder: # Si toujours vrai avec les tests, on l'ajoute\n            newresult.append(nb)\n    dernier_resultat =  newresult\n  \nif len(dernier_resultat) == 1:\n    print(f\"BRAVO, je suis trop fort! Il ne reste que la réponse : {dernier_resultat[0]}\")\nelif len(dernier_resultat) > 1:\n    print(f\"Zut, il reste {len(dernier_resultat)} choix, il faut réfléchir encore...\")\nprint(dernier_resultat)\n",
      "metadata": {
        "trusted": true
      },
      "execution_count": 59,
      "outputs": [
        {
          "name": "stdout",
          "text": "BRAVO, je suis trop fort! Il ne reste que la réponse : 33\n[33]\n",
          "output_type": "stream"
        }
      ]
    },
    {
      "cell_type": "code",
      "source": "",
      "metadata": {
        "trusted": true
      },
      "execution_count": null,
      "outputs": [
        {
          "ename": "<class 'UnboundLocalError'>",
          "evalue": "local variable 'dernier_resultat' referenced before assignment",
          "traceback": [
            "\u001b[0;31m---------------------------------------------------------------------------\u001b[0m",
            "\u001b[0;31mUnboundLocalError\u001b[0m                         Traceback (most recent call last)",
            "Cell \u001b[0;32mIn[69], line 26\u001b[0m\n\u001b[1;32m     23\u001b[0m \u001b[38;5;66;03m# addition des 3 chiffres donne : \u001b[39;00m\n\u001b[1;32m     24\u001b[0m addition_chiffres \u001b[38;5;241m=\u001b[39m \u001b[38;5;241m14\u001b[39m\n\u001b[0;32m---> 26\u001b[0m \u001b[43mtrouve_chiffre\u001b[49m\u001b[43m(\u001b[49m\u001b[43m)\u001b[49m\n",
            "Cell \u001b[0;32mIn[68], line 35\u001b[0m, in \u001b[0;36mtrouve_chiffre\u001b[0;34m()\u001b[0m\n\u001b[1;32m     33\u001b[0m \u001b[38;5;28;01mif\u001b[39;00m non_divisible_par:\n\u001b[1;32m     34\u001b[0m     newresult\u001b[38;5;241m=\u001b[39m[] \n\u001b[0;32m---> 35\u001b[0m     \u001b[38;5;28;01mfor\u001b[39;00m nb \u001b[38;5;129;01min\u001b[39;00m \u001b[43mdernier_resultat\u001b[49m:\n\u001b[1;32m     36\u001b[0m         garder \u001b[38;5;241m=\u001b[39m \u001b[38;5;28;01mTrue\u001b[39;00m\n\u001b[1;32m     37\u001b[0m         \u001b[38;5;28;01mfor\u001b[39;00m i \u001b[38;5;129;01min\u001b[39;00m non_divisible_par:\n",
            "\u001b[0;31mUnboundLocalError\u001b[0m: local variable 'dernier_resultat' referenced before assignment"
          ],
          "output_type": "error"
        }
      ]
    },
    {
      "cell_type": "code",
      "source": "",
      "metadata": {},
      "execution_count": null,
      "outputs": []
    }
  ]
}